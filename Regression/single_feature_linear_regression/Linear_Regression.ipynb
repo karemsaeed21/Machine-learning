{
 "cells": [
  {
   "cell_type": "markdown",
   "id": "814b28af-ae2e-4885-a473-f3693eac5b54",
   "metadata": {},
   "source": [
    "#                SINGLE FEATURE LINEAR REGRESSION\n",
    "## Implementation of Linear Regression using only **NumPy**\n",
    "### This code performs linear regression by calculating the best-fit line\n",
    "### for a given set of data points using the least squares method."
   ]
  },
  {
   "cell_type": "code",
   "execution_count": null,
   "id": "9bc9d951-9803-4921-bed8-950b8cdcc913",
   "metadata": {},
   "outputs": [],
   "source": [
    "# import important modules"
   ]
  },
  {
   "cell_type": "code",
   "execution_count": 60,
   "id": "0d8b2a93-c8fa-4f8f-af3b-70bb0092e408",
   "metadata": {},
   "outputs": [],
   "source": [
    "import numpy as np\n",
    "import matplotlib.pyplot as plt\n",
    "from sklearn.model_selection import train_test_split"
   ]
  },
  {
   "cell_type": "code",
   "execution_count": 61,
   "id": "2b63d306-80de-4f1c-b3c2-54dcf1c04cb3",
   "metadata": {},
   "outputs": [],
   "source": [
    "# Step 1: Data Representation"
   ]
  },
  {
   "cell_type": "code",
   "execution_count": 62,
   "id": "d45c2d41-9e8e-402e-b63b-dea30c4045e9",
   "metadata": {},
   "outputs": [],
   "source": [
    "np.random.seed(0)  # For reproducibility\n",
    "x = np.linspace(1, 100, 100).reshape(-1, 1)\n",
    "y = 2 * x + np.random.normal(0, 10, x.shape)\n",
    "x_train, x_test, y_train, y_test = train_test_split(x, y, test_size=0.2, random_state=0)"
   ]
  },
  {
   "cell_type": "code",
   "execution_count": 66,
   "id": "f627241d-e700-4c6e-8f09-306dea4777ab",
   "metadata": {},
   "outputs": [],
   "source": [
    "# Ploting the data"
   ]
  },
  {
   "cell_type": "code",
   "execution_count": 68,
   "id": "fb9d9b9d-1e18-4e38-b521-3c6c3e522bac",
   "metadata": {},
   "outputs": [
    {
     "data": {
      "image/png": "[encoded data removed]",
      "text/plain": [
       "<Figure size 640x480 with 1 Axes>"
      ]
     },
     "metadata": {},
     "output_type": "display_data"
    }
   ],
   "source": [
    "plt.scatter(x_train, y_train, color='blue')\n",
    "plt.title('Population of cities vs Profit')\n",
    "plt.xlabel('Population of cities (in 10,000s)')\n",
    "plt.ylabel('Profit (in 10,000s)')\n",
    "plt.show()"
   ]
  },
  {
   "cell_type": "code",
   "execution_count": 70,
   "id": "c5f8c612-fa61-4fea-8571-5ef05c84a135",
   "metadata": {},
   "outputs": [],
   "source": [
    "# Step 2: Hypothesis Function"
   ]
  },
  {
   "cell_type": "code",
   "execution_count": 72,
   "id": "a21bb512-9ca2-450a-a361-833c52eb64d7",
   "metadata": {},
   "outputs": [],
   "source": [
    "def predict(x,w,b):\n",
    "    return (w * x) + b"
   ]
  },
  {
   "cell_type": "code",
   "execution_count": 74,
   "id": "66e2d819-242a-49f9-b67d-6c832d3b13d1",
   "metadata": {},
   "outputs": [],
   "source": [
    "# Step 3: Cost Function implementation"
   ]
  },
  {
   "cell_type": "code",
   "execution_count": 76,
   "id": "7e18bfae-5249-4b35-a630-c79ccc6f2cb8",
   "metadata": {},
   "outputs": [],
   "source": [
    "def compute_cost(x, y, w, b):\n",
    "    m = x.shape[0]\n",
    "    total_cost = 0\n",
    "    for i in range(m):\n",
    "        f_wb = predict(x[i], w, b)\n",
    "        total_cost += (f_wb - y[i]) ** 2\n",
    "    return total_cost / (2 * m)"
   ]
  },
  {
   "cell_type": "code",
   "execution_count": 78,
   "id": "d5959771-753e-43a6-a8bf-deb6609a7b92",
   "metadata": {},
   "outputs": [],
   "source": [
    "# Step 4: Gradient Computation"
   ]
  },
  {
   "cell_type": "code",
   "execution_count": 80,
   "id": "0136b2a8-0602-4534-ab99-31a7884ecf24",
   "metadata": {},
   "outputs": [],
   "source": [
    "def compute_gradient(x, y, w, b):\n",
    "    m = x.shape[0]\n",
    "    dj_dw = 0\n",
    "    dj_db = 0 \n",
    "    for i in range(m):\n",
    "        f_wb = predict(x[i], w, b)\n",
    "        dj_dw += (f_wb - y[i]) * x[i]\n",
    "        dj_db += (f_wb - y[i])\n",
    "    # Average the gradients over the number of examples\n",
    "    dj_dw = dj_dw / m\n",
    "    dj_db = dj_db / m\n",
    "    return dj_dw, dj_db"
   ]
  },
  {
   "cell_type": "code",
   "execution_count": 82,
   "id": "8a21185c-f2b2-44f0-ac1c-9849ba62769e",
   "metadata": {},
   "outputs": [],
   "source": [
    "# Step 5: Gradient Descent Algorithm"
   ]
  },
  {
   "cell_type": "code",
   "execution_count": 84,
   "id": "28147bc0-3a8d-4d89-a412-43458009ddc2",
   "metadata": {},
   "outputs": [],
   "source": [
    "def gradient_descent(x, y, w, b, alpha, num_iters):\n",
    "    for i in range(num_iters):\n",
    "        dj_dw, dj_db = compute_gradient(x, y, w, b)\n",
    "        w = w - alpha * dj_dw\n",
    "        b = b - alpha * dj_db\n",
    "    return w, b"
   ]
  },
  {
   "cell_type": "code",
   "execution_count": 86,
   "id": "1d486f39-9392-4e89-a9f2-12ae888b6101",
   "metadata": {},
   "outputs": [],
   "source": [
    "# Step 6: Training the model"
   ]
  },
  {
   "cell_type": "code",
   "execution_count": 88,
   "id": "97031885-99f8-40ae-a04d-486f15ac0c63",
   "metadata": {},
   "outputs": [],
   "source": [
    "w_init = 0\n",
    "b_init = 0\n",
    "alpha = 0.01\n",
    "num_iters = 1000"
   ]
  },
  {
   "cell_type": "code",
   "execution_count": 154,
   "id": "6e44b5b4-e643-4ed1-a5f2-0c533ce83778",
   "metadata": {},
   "outputs": [],
   "source": [
    "def train_model_and_print_results(\n",
    "    x_train: list, \n",
    "    y_train: list, \n",
    "    w_init: float, \n",
    "    b_init: float, \n",
    "    alpha: float, \n",
    "    num_iters: int\n",
    ") -> None:\n",
    "    \"\"\"\n",
    "    Trains the model using gradient descent and prints the trained parameters.\n",
    "    \n",
    "    Args:\n",
    "    x_train (list): The training input data.\n",
    "    y_train (list): The training output data.\n",
    "    w_init (float): The initial weight.\n",
    "    b_init (float): The initial bias.\n",
    "    alpha (float): The learning rate.\n",
    "    num_iters (int): The number of iterations for gradient descent.\n",
    "    \"\"\"\n",
    "    w, b = gradient_descent(x_train, y_train, w_init, b_init, alpha, num_iters)\n",
    "    print(f\"Trained parameters: w = {w}, b = {b}\")"
   ]
  },
  {
   "cell_type": "code",
   "execution_count": 156,
   "id": "122a1cc0-c948-4c93-82da-c17f94b17b69",
   "metadata": {},
   "outputs": [],
   "source": [
    "# Step 7: Making Predictions"
   ]
  },
  {
   "cell_type": "code",
   "execution_count": 158,
   "id": "308e55fe-a3d9-42ab-904b-cc5c253355b8",
   "metadata": {},
   "outputs": [
    {
     "name": "stdout",
     "output_type": "stream",
     "text": [
      "Prediction for input [5]: [nan]\n"
     ]
    }
   ],
   "source": [
    "x_new = np.array([5])\n",
    "prediction = predict(x_new, w, b)\n",
    "print(f\"Prediction for input {x_new}: {prediction}\")"
   ]
  },
  {
   "cell_type": "code",
   "execution_count": 146,
   "id": "6f8fb76c-f62c-4abc-b21b-0240e4a6be7f",
   "metadata": {},
   "outputs": [],
   "source": [
    "# Step 8: Calculating Final Cost"
   ]
  },
  {
   "cell_type": "code",
   "execution_count": 148,
   "id": "224b1c13-34b1-4ff6-9ad9-f03d0525598c",
   "metadata": {},
   "outputs": [
    {
     "name": "stdout",
     "output_type": "stream",
     "text": [
      "Final cost after training: [nan]\n"
     ]
    }
   ],
   "source": [
    "print(f\"Final cost after training: {compute_cost(x_train,y_train, w, b)}\")"
   ]
  },
  {
   "cell_type": "code",
   "execution_count": 150,
   "id": "397e77f6-becc-4b49-b9e7-b0904ac8e5c5",
   "metadata": {},
   "outputs": [],
   "source": [
    "# Step 9: Ploting the Data and model"
   ]
  },
  {
   "cell_type": "code",
   "execution_count": 152,
   "id": "015059f6-e8e2-4f07-8689-57bedf656e05",
   "metadata": {},
   "outputs": [
    {
     "data": {
      "image/png": "[encoded data removed]",
      "text/plain": [
       "<Figure size 640x480 with 1 Axes>"
      ]
     },
     "metadata": {},
     "output_type": "display_data"
    }
   ],
   "source": [
    "plt.scatter(x_train, y_train, color='blue')\n",
    "plt.plot(x_train, predict(x_train, w, b), color='red')\n",
    "plt.xlabel('Population of City in 10,000s')\n",
    "plt.ylabel('Profit in 10,000s')\n",
    "plt.title('Linear Regression Model')\n",
    "plt.show()"
   ]
  },
  {
   "cell_type": "code",
   "execution_count": null,
   "id": "d697ac21-ca3d-436a-8fa8-d175fc6b24ea",
   "metadata": {},
   "outputs": [],
   "source": [
    "#                SINGLE FEATURE LINEAR REGRESSION\n",
    "## Implementation of Linear Regression using only **NumPy**\n",
    "### This code performs linear regression by calculating the best-fit line\n",
    "### for a given set of data points using the least squares method."
   ]
  },
  {
   "cell_type": "code",
   "execution_count": 104,
   "id": "a19b63f2-7b3f-49f4-aca1-2183f5c332ed",
   "metadata": {},
   "outputs": [],
   "source": [
    "# Linear Regression sklearn Implementation"
   ]
  },
  {
   "cell_type": "code",
   "execution_count": 106,
   "id": "da6e5194-807f-461c-b614-7040231db953",
   "metadata": {},
   "outputs": [],
   "source": [
    "# import more modules"
   ]
  },
  {
   "cell_type": "code",
   "execution_count": 108,
   "id": "b8530aee-3376-44d1-9586-a184fdaf2e7f",
   "metadata": {},
   "outputs": [],
   "source": [
    "from sklearn.linear_model import LinearRegression\n",
    "from sklearn.metrics import mean_squared_error\n",
    "from sklearn.model_selection import train_test_split"
   ]
  },
  {
   "cell_type": "code",
   "execution_count": null,
   "id": "065ec9cc-0700-4e1d-998b-758bdb9d3c1c",
   "metadata": {},
   "outputs": [],
   "source": [
    "# Step 1: Data Representation"
   ]
  },
  {
   "cell_type": "code",
   "execution_count": 110,
   "id": "16be3782-dbfc-44bf-b4b5-80e69e27dff1",
   "metadata": {},
   "outputs": [],
   "source": [
    "np.random.seed(0)  # For reproducibility\n",
    "x = np.linspace(1, 100, 100).reshape(-1, 1)\n",
    "y = 2 * x + np.random.normal(0, 10, x.shape)\n",
    "x_train, x_test, y_train, y_test = train_test_split(x, y, test_size=0.2, random_state=0)"
   ]
  },
  {
   "cell_type": "code",
   "execution_count": 112,
   "id": "0e45fa34-05cc-4ff6-ba30-5f2cccef5309",
   "metadata": {},
   "outputs": [],
   "source": [
    "# Step 2: Ploting the data"
   ]
  },
  {
   "cell_type": "code",
   "execution_count": 114,
   "id": "4c1de2e6-e0fc-4481-bdf6-2992d5a7a0c6",
   "metadata": {},
   "outputs": [
    {
     "data": {
      "image/png": "[encoded data removed]",
      "text/plain": [
       "<Figure size 640x480 with 1 Axes>"
      ]
     },
     "metadata": {},
     "output_type": "display_data"
    }
   ],
   "source": [
    "plt.scatter(x, y, color='blue')\n",
    "plt.title('Population of cities vs Profit')\n",
    "plt.xlabel('Population of cities (in 10,000s)')\n",
    "plt.ylabel('Profit (in 10,000s)')\n",
    "plt.show()"
   ]
  },
  {
   "cell_type": "code",
   "execution_count": 116,
   "id": "9bea407e-6a6d-4086-ad39-6ce8b830fdf6",
   "metadata": {},
   "outputs": [],
   "source": [
    "# Step 2: Initialize the Linear Regression Model"
   ]
  },
  {
   "cell_type": "code",
   "execution_count": 118,
   "id": "92581255-a21e-400e-98e3-e0a2a24f0046",
   "metadata": {},
   "outputs": [],
   "source": [
    "model = LinearRegression()"
   ]
  },
  {
   "cell_type": "code",
   "execution_count": 120,
   "id": "1f1cf755-0387-4967-8875-c7d65eafdf4e",
   "metadata": {},
   "outputs": [],
   "source": [
    "# split the data into training and testing sets\n",
    "\n",
    "x_train, x_test, y_train, y_test = train_test_split(x, y, test_size=0.2, random_state=0)"
   ]
  },
  {
   "cell_type": "code",
   "execution_count": 122,
   "id": "440924cc-0c62-42c8-8136-23747175a185",
   "metadata": {},
   "outputs": [],
   "source": [
    "# Step 3: Train the Model"
   ]
  },
  {
   "cell_type": "code",
   "execution_count": 124,
   "id": "f2ef67e1-6af4-4fc3-b6ca-ad299d66e110",
   "metadata": {},
   "outputs": [
    {
     "data": {
      "text/html": [
       "<style>#sk-container-id-1 {\n",
       "  /* Definition of color scheme common for light and dark mode */\n",
       "  --sklearn-color-text: black;\n",
       "  --sklearn-color-line: gray;\n",
       "  /* Definition of color scheme for unfitted estimators */\n",
       "  --sklearn-color-unfitted-level-0: #fff5e6;\n",
       "  --sklearn-color-unfitted-level-1: #f6e4d2;\n",
       "  --sklearn-color-unfitted-level-2: #ffe0b3;\n",
       "  --sklearn-color-unfitted-level-3: chocolate;\n",
       "  /* Definition of color scheme for fitted estimators */\n",
       "  --sklearn-color-fitted-level-0: #f0f8ff;\n",
       "  --sklearn-color-fitted-level-1: #d4ebff;\n",
       "  --sklearn-color-fitted-level-2: #b3dbfd;\n",
       "  --sklearn-color-fitted-level-3: cornflowerblue;\n",
       "\n",
       "  /* Specific color for light theme */\n",
       "  --sklearn-color-text-on-default-background: var(--sg-text-color, var(--theme-code-foreground, var(--jp-content-font-color1, black)));\n",
       "  --sklearn-color-background: var(--sg-background-color, var(--theme-background, var(--jp-layout-color0, white)));\n",
       "  --sklearn-color-border-box: var(--sg-text-color, var(--theme-code-foreground, var(--jp-content-font-color1, black)));\n",
       "  --sklearn-color-icon: #696969;\n",
       "\n",
       "  @media (prefers-color-scheme: dark) {\n",
       "    /* Redefinition of color scheme for dark theme */\n",
       "    --sklearn-color-text-on-default-background: var(--sg-text-color, var(--theme-code-foreground, var(--jp-content-font-color1, white)));\n",
       "    --sklearn-color-background: var(--sg-background-color, var(--theme-background, var(--jp-layout-color0, #111)));\n",
       "    --sklearn-color-border-box: var(--sg-text-color, var(--theme-code-foreground, var(--jp-content-font-color1, white)));\n",
       "    --sklearn-color-icon: #878787;\n",
       "  }\n",
       "}\n",
       "\n",
       "#sk-container-id-1 {\n",
       "  color: var(--sklearn-color-text);\n",
       "}\n",
       "\n",
       "#sk-container-id-1 pre {\n",
       "  padding: 0;\n",
       "}\n",
       "\n",
       "#sk-container-id-1 input.sk-hidden--visually {\n",
       "  border: 0;\n",
       "  clip: rect(1px 1px 1px 1px);\n",
       "  clip: rect(1px, 1px, 1px, 1px);\n",
       "  height: 1px;\n",
       "  margin: -1px;\n",
       "  overflow: hidden;\n",
       "  padding: 0;\n",
       "  position: absolute;\n",
       "  width: 1px;\n",
       "}\n",
       "\n",
       "#sk-container-id-1 div.sk-dashed-wrapped {\n",
       "  border: 1px dashed var(--sklearn-color-line);\n",
       "  margin: 0 0.4em 0.5em 0.4em;\n",
       "  box-sizing: border-box;\n",
       "  padding-bottom: 0.4em;\n",
       "  background-color: var(--sklearn-color-background);\n",
       "}\n",
       "\n",
       "#sk-container-id-1 div.sk-container {\n",
       "  /* jupyter's `normalize.less` sets `[hidden] { display: none; }`\n",
       "     but bootstrap.min.css set `[hidden] { display: none !important; }`\n",
       "     so we also need the `!important` here to be able to override the\n",
       "     default hidden behavior on the sphinx rendered scikit-learn.org.\n",
       "     See: https://github.com/scikit-learn/scikit-learn/issues/21755 */\n",
       "  display: inline-block !important;\n",
       "  position: relative;\n",
       "}\n",
       "\n",
       "#sk-container-id-1 div.sk-text-repr-fallback {\n",
       "  display: none;\n",
       "}\n",
       "\n",
       "div.sk-parallel-item,\n",
       "div.sk-serial,\n",
       "div.sk-item {\n",
       "  /* draw centered vertical line to link estimators */\n",
       "  background-image: linear-gradient(var(--sklearn-color-text-on-default-background), var(--sklearn-color-text-on-default-background));\n",
       "  background-size: 2px 100%;\n",
       "  background-repeat: no-repeat;\n",
       "  background-position: center center;\n",
       "}\n",
       "\n",
       "/* Parallel-specific style estimator block */\n",
       "\n",
       "#sk-container-id-1 div.sk-parallel-item::after {\n",
       "  content: \"\";\n",
       "  width: 100%;\n",
       "  border-bottom: 2px solid var(--sklearn-color-text-on-default-background);\n",
       "  flex-grow: 1;\n",
       "}\n",
       "\n",
       "#sk-container-id-1 div.sk-parallel {\n",
       "  display: flex;\n",
       "  align-items: stretch;\n",
       "  justify-content: center;\n",
       "  background-color: var(--sklearn-color-background);\n",
       "  position: relative;\n",
       "}\n",
       "\n",
       "#sk-container-id-1 div.sk-parallel-item {\n",
       "  display: flex;\n",
       "  flex-direction: column;\n",
       "}\n",
       "\n",
       "#sk-container-id-1 div.sk-parallel-item:first-child::after {\n",
       "  align-self: flex-end;\n",
       "  width: 50%;\n",
       "}\n",
       "\n",
       "#sk-container-id-1 div.sk-parallel-item:last-child::after {\n",
       "  align-self: flex-start;\n",
       "  width: 50%;\n",
       "}\n",
       "\n",
       "#sk-container-id-1 div.sk-parallel-item:only-child::after {\n",
       "  width: 0;\n",
       "}\n",
       "\n",
       "/* Serial-specific style estimator block */\n",
       "\n",
       "#sk-container-id-1 div.sk-serial {\n",
       "  display: flex;\n",
       "  flex-direction: column;\n",
       "  align-items: center;\n",
       "  background-color: var(--sklearn-color-background);\n",
       "  padding-right: 1em;\n",
       "  padding-left: 1em;\n",
       "}\n",
       "\n",
       "\n",
       "/* Toggleable style: style used for estimator/Pipeline/ColumnTransformer box that is\n",
       "clickable and can be expanded/collapsed.\n",
       "- Pipeline and ColumnTransformer use this feature and define the default style\n",
       "- Estimators will overwrite some part of the style using the `sk-estimator` class\n",
       "*/\n",
       "\n",
       "/* Pipeline and ColumnTransformer style (default) */\n",
       "\n",
       "#sk-container-id-1 div.sk-toggleable {\n",
       "  /* Default theme specific background. It is overwritten whether we have a\n",
       "  specific estimator or a Pipeline/ColumnTransformer */\n",
       "  background-color: var(--sklearn-color-background);\n",
       "}\n",
       "\n",
       "/* Toggleable label */\n",
       "#sk-container-id-1 label.sk-toggleable__label {\n",
       "  cursor: pointer;\n",
       "  display: block;\n",
       "  width: 100%;\n",
       "  margin-bottom: 0;\n",
       "  padding: 0.5em;\n",
       "  box-sizing: border-box;\n",
       "  text-align: center;\n",
       "}\n",
       "\n",
       "#sk-container-id-1 label.sk-toggleable__label-arrow:before {\n",
       "  /* Arrow on the left of the label */\n",
       "  content: \"▸\";\n",
       "  float: left;\n",
       "  margin-right: 0.25em;\n",
       "  color: var(--sklearn-color-icon);\n",
       "}\n",
       "\n",
       "#sk-container-id-1 label.sk-toggleable__label-arrow:hover:before {\n",
       "  color: var(--sklearn-color-text);\n",
       "}\n",
       "\n",
       "/* Toggleable content - dropdown */\n",
       "\n",
       "#sk-container-id-1 div.sk-toggleable__content {\n",
       "  max-height: 0;\n",
       "  max-width: 0;\n",
       "  overflow: hidden;\n",
       "  text-align: left;\n",
       "  /* unfitted */\n",
       "  background-color: var(--sklearn-color-unfitted-level-0);\n",
       "}\n",
       "\n",
       "#sk-container-id-1 div.sk-toggleable__content.fitted {\n",
       "  /* fitted */\n",
       "  background-color: var(--sklearn-color-fitted-level-0);\n",
       "}\n",
       "\n",
       "#sk-container-id-1 div.sk-toggleable__content pre {\n",
       "  margin: 0.2em;\n",
       "  border-radius: 0.25em;\n",
       "  color: var(--sklearn-color-text);\n",
       "  /* unfitted */\n",
       "  background-color: var(--sklearn-color-unfitted-level-0);\n",
       "}\n",
       "\n",
       "#sk-container-id-1 div.sk-toggleable__content.fitted pre {\n",
       "  /* unfitted */\n",
       "  background-color: var(--sklearn-color-fitted-level-0);\n",
       "}\n",
       "\n",
       "#sk-container-id-1 input.sk-toggleable__control:checked~div.sk-toggleable__content {\n",
       "  /* Expand drop-down */\n",
       "  max-height: 200px;\n",
       "  max-width: 100%;\n",
       "  overflow: auto;\n",
       "}\n",
       "\n",
       "#sk-container-id-1 input.sk-toggleable__control:checked~label.sk-toggleable__label-arrow:before {\n",
       "  content: \"▾\";\n",
       "}\n",
       "\n",
       "/* Pipeline/ColumnTransformer-specific style */\n",
       "\n",
       "#sk-container-id-1 div.sk-label input.sk-toggleable__control:checked~label.sk-toggleable__label {\n",
       "  color: var(--sklearn-color-text);\n",
       "  background-color: var(--sklearn-color-unfitted-level-2);\n",
       "}\n",
       "\n",
       "#sk-container-id-1 div.sk-label.fitted input.sk-toggleable__control:checked~label.sk-toggleable__label {\n",
       "  background-color: var(--sklearn-color-fitted-level-2);\n",
       "}\n",
       "\n",
       "/* Estimator-specific style */\n",
       "\n",
       "/* Colorize estimator box */\n",
       "#sk-container-id-1 div.sk-estimator input.sk-toggleable__control:checked~label.sk-toggleable__label {\n",
       "  /* unfitted */\n",
       "  background-color: var(--sklearn-color-unfitted-level-2);\n",
       "}\n",
       "\n",
       "#sk-container-id-1 div.sk-estimator.fitted input.sk-toggleable__control:checked~label.sk-toggleable__label {\n",
       "  /* fitted */\n",
       "  background-color: var(--sklearn-color-fitted-level-2);\n",
       "}\n",
       "\n",
       "#sk-container-id-1 div.sk-label label.sk-toggleable__label,\n",
       "#sk-container-id-1 div.sk-label label {\n",
       "  /* The background is the default theme color */\n",
       "  color: var(--sklearn-color-text-on-default-background);\n",
       "}\n",
       "\n",
       "/* On hover, darken the color of the background */\n",
       "#sk-container-id-1 div.sk-label:hover label.sk-toggleable__label {\n",
       "  color: var(--sklearn-color-text);\n",
       "  background-color: var(--sklearn-color-unfitted-level-2);\n",
       "}\n",
       "\n",
       "/* Label box, darken color on hover, fitted */\n",
       "#sk-container-id-1 div.sk-label.fitted:hover label.sk-toggleable__label.fitted {\n",
       "  color: var(--sklearn-color-text);\n",
       "  background-color: var(--sklearn-color-fitted-level-2);\n",
       "}\n",
       "\n",
       "/* Estimator label */\n",
       "\n",
       "#sk-container-id-1 div.sk-label label {\n",
       "  font-family: monospace;\n",
       "  font-weight: bold;\n",
       "  display: inline-block;\n",
       "  line-height: 1.2em;\n",
       "}\n",
       "\n",
       "#sk-container-id-1 div.sk-label-container {\n",
       "  text-align: center;\n",
       "}\n",
       "\n",
       "/* Estimator-specific */\n",
       "#sk-container-id-1 div.sk-estimator {\n",
       "  font-family: monospace;\n",
       "  border: 1px dotted var(--sklearn-color-border-box);\n",
       "  border-radius: 0.25em;\n",
       "  box-sizing: border-box;\n",
       "  margin-bottom: 0.5em;\n",
       "  /* unfitted */\n",
       "  background-color: var(--sklearn-color-unfitted-level-0);\n",
       "}\n",
       "\n",
       "#sk-container-id-1 div.sk-estimator.fitted {\n",
       "  /* fitted */\n",
       "  background-color: var(--sklearn-color-fitted-level-0);\n",
       "}\n",
       "\n",
       "/* on hover */\n",
       "#sk-container-id-1 div.sk-estimator:hover {\n",
       "  /* unfitted */\n",
       "  background-color: var(--sklearn-color-unfitted-level-2);\n",
       "}\n",
       "\n",
       "#sk-container-id-1 div.sk-estimator.fitted:hover {\n",
       "  /* fitted */\n",
       "  background-color: var(--sklearn-color-fitted-level-2);\n",
       "}\n",
       "\n",
       "/* Specification for estimator info (e.g. \"i\" and \"?\") */\n",
       "\n",
       "/* Common style for \"i\" and \"?\" */\n",
       "\n",
       ".sk-estimator-doc-link,\n",
       "a:link.sk-estimator-doc-link,\n",
       "a:visited.sk-estimator-doc-link {\n",
       "  float: right;\n",
       "  font-size: smaller;\n",
       "  line-height: 1em;\n",
       "  font-family: monospace;\n",
       "  background-color: var(--sklearn-color-background);\n",
       "  border-radius: 1em;\n",
       "  height: 1em;\n",
       "  width: 1em;\n",
       "  text-decoration: none !important;\n",
       "  margin-left: 1ex;\n",
       "  /* unfitted */\n",
       "  border: var(--sklearn-color-unfitted-level-1) 1pt solid;\n",
       "  color: var(--sklearn-color-unfitted-level-1);\n",
       "}\n",
       "\n",
       ".sk-estimator-doc-link.fitted,\n",
       "a:link.sk-estimator-doc-link.fitted,\n",
       "a:visited.sk-estimator-doc-link.fitted {\n",
       "  /* fitted */\n",
       "  border: var(--sklearn-color-fitted-level-1) 1pt solid;\n",
       "  color: var(--sklearn-color-fitted-level-1);\n",
       "}\n",
       "\n",
       "/* On hover */\n",
       "div.sk-estimator:hover .sk-estimator-doc-link:hover,\n",
       ".sk-estimator-doc-link:hover,\n",
       "div.sk-label-container:hover .sk-estimator-doc-link:hover,\n",
       ".sk-estimator-doc-link:hover {\n",
       "  /* unfitted */\n",
       "  background-color: var(--sklearn-color-unfitted-level-3);\n",
       "  color: var(--sklearn-color-background);\n",
       "  text-decoration: none;\n",
       "}\n",
       "\n",
       "div.sk-estimator.fitted:hover .sk-estimator-doc-link.fitted:hover,\n",
       ".sk-estimator-doc-link.fitted:hover,\n",
       "div.sk-label-container:hover .sk-estimator-doc-link.fitted:hover,\n",
       ".sk-estimator-doc-link.fitted:hover {\n",
       "  /* fitted */\n",
       "  background-color: var(--sklearn-color-fitted-level-3);\n",
       "  color: var(--sklearn-color-background);\n",
       "  text-decoration: none;\n",
       "}\n",
       "\n",
       "/* Span, style for the box shown on hovering the info icon */\n",
       ".sk-estimator-doc-link span {\n",
       "  display: none;\n",
       "  z-index: 9999;\n",
       "  position: relative;\n",
       "  font-weight: normal;\n",
       "  right: .2ex;\n",
       "  padding: .5ex;\n",
       "  margin: .5ex;\n",
       "  width: min-content;\n",
       "  min-width: 20ex;\n",
       "  max-width: 50ex;\n",
       "  color: var(--sklearn-color-text);\n",
       "  box-shadow: 2pt 2pt 4pt #999;\n",
       "  /* unfitted */\n",
       "  background: var(--sklearn-color-unfitted-level-0);\n",
       "  border: .5pt solid var(--sklearn-color-unfitted-level-3);\n",
       "}\n",
       "\n",
       ".sk-estimator-doc-link.fitted span {\n",
       "  /* fitted */\n",
       "  background: var(--sklearn-color-fitted-level-0);\n",
       "  border: var(--sklearn-color-fitted-level-3);\n",
       "}\n",
       "\n",
       ".sk-estimator-doc-link:hover span {\n",
       "  display: block;\n",
       "}\n",
       "\n",
       "/* \"?\"-specific style due to the `<a>` HTML tag */\n",
       "\n",
       "#sk-container-id-1 a.estimator_doc_link {\n",
       "  float: right;\n",
       "  font-size: 1rem;\n",
       "  line-height: 1em;\n",
       "  font-family: monospace;\n",
       "  background-color: var(--sklearn-color-background);\n",
       "  border-radius: 1rem;\n",
       "  height: 1rem;\n",
       "  width: 1rem;\n",
       "  text-decoration: none;\n",
       "  /* unfitted */\n",
       "  color: var(--sklearn-color-unfitted-level-1);\n",
       "  border: var(--sklearn-color-unfitted-level-1) 1pt solid;\n",
       "}\n",
       "\n",
       "#sk-container-id-1 a.estimator_doc_link.fitted {\n",
       "  /* fitted */\n",
       "  border: var(--sklearn-color-fitted-level-1) 1pt solid;\n",
       "  color: var(--sklearn-color-fitted-level-1);\n",
       "}\n",
       "\n",
       "/* On hover */\n",
       "#sk-container-id-1 a.estimator_doc_link:hover {\n",
       "  /* unfitted */\n",
       "  background-color: var(--sklearn-color-unfitted-level-3);\n",
       "  color: var(--sklearn-color-background);\n",
       "  text-decoration: none;\n",
       "}\n",
       "\n",
       "#sk-container-id-1 a.estimator_doc_link.fitted:hover {\n",
       "  /* fitted */\n",
       "  background-color: var(--sklearn-color-fitted-level-3);\n",
       "}\n",
       "</style><div id=\"sk-container-id-1\" class=\"sk-top-container\"><div class=\"sk-text-repr-fallback\"><pre>LinearRegression()</pre><b>In a Jupyter environment, please rerun this cell to show the HTML representation or trust the notebook. <br />On GitHub, the HTML representation is unable to render, please try loading this page with nbviewer.org.</b></div><div class=\"sk-container\" hidden><div class=\"sk-item\"><div class=\"sk-estimator fitted sk-toggleable\"><input class=\"sk-toggleable__control sk-hidden--visually\" id=\"sk-estimator-id-1\" type=\"checkbox\" checked><label for=\"sk-estimator-id-1\" class=\"sk-toggleable__label fitted sk-toggleable__label-arrow fitted\">&nbsp;&nbsp;LinearRegression<a class=\"sk-estimator-doc-link fitted\" rel=\"noreferrer\" target=\"_blank\" href=\"https://scikit-learn.org/1.4/modules/generated/sklearn.linear_model.LinearRegression.html\">?<span>Documentation for LinearRegression</span></a><span class=\"sk-estimator-doc-link fitted\">i<span>Fitted</span></span></label><div class=\"sk-toggleable__content fitted\"><pre>LinearRegression()</pre></div> </div></div></div></div>"
      ],
      "text/plain": [
       "LinearRegression()"
      ]
     },
     "execution_count": 124,
     "metadata": {},
     "output_type": "execute_result"
    }
   ],
   "source": [
    "model.fit(x_train,y_train)"
   ]
  },
  {
   "cell_type": "code",
   "execution_count": 126,
   "id": "2558bba4-0142-482f-9ee8-77ce69f016f3",
   "metadata": {},
   "outputs": [
    {
     "name": "stdout",
     "output_type": "stream",
     "text": [
      "Trained parameters: w = [1.97190917], b = [1.71642319]\n"
     ]
    }
   ],
   "source": [
    "# Step 4: Extract the Parameters (w and b)\n",
    "print(f\"Trained parameters: w = {model.coef_[0] }, b = {model.intercept_}\")"
   ]
  },
  {
   "cell_type": "code",
   "execution_count": 128,
   "id": "9fed4eff-bbd5-47ac-875b-7123d6d3873e",
   "metadata": {},
   "outputs": [],
   "source": [
    "# Step 5: make prediction"
   ]
  },
  {
   "cell_type": "code",
   "execution_count": 130,
   "id": "cd6b4c72-79d7-4b28-b4ca-72a569ea41be",
   "metadata": {},
   "outputs": [
    {
     "name": "stdout",
     "output_type": "stream",
     "text": [
      "Prediction for input [[27.]\n",
      " [87.]\n",
      " [ 3.]\n",
      " [56.]\n",
      " [76.]\n",
      " [94.]\n",
      " [17.]\n",
      " [74.]\n",
      " [55.]\n",
      " [96.]\n",
      " [54.]\n",
      " [93.]\n",
      " [79.]\n",
      " [14.]\n",
      " [ 8.]\n",
      " [31.]\n",
      " [23.]\n",
      " [25.]\n",
      " [34.]\n",
      " [ 9.]]: [[ 54.9579707 ]\n",
      " [173.27252074]\n",
      " [  7.63215069]\n",
      " [112.14333655]\n",
      " [151.5815199 ]\n",
      " [187.07588491]\n",
      " [ 35.23887903]\n",
      " [147.63770156]\n",
      " [110.17142738]\n",
      " [191.01970324]\n",
      " [108.19951822]\n",
      " [185.10397574]\n",
      " [157.4972474 ]\n",
      " [ 29.32315153]\n",
      " [ 17.49169652]\n",
      " [ 62.84560737]\n",
      " [ 47.07033403]\n",
      " [ 51.01415237]\n",
      " [ 68.76133487]\n",
      " [ 19.46360569]]\n"
     ]
    }
   ],
   "source": [
    "prediction = model.predict(x_test)\n",
    "print(f\"Prediction for input {x_test}: {prediction}\")"
   ]
  },
  {
   "cell_type": "code",
   "execution_count": 132,
   "id": "d33dec73-30fe-4e21-a3ae-f4180f84be65",
   "metadata": {},
   "outputs": [],
   "source": [
    "# Step 6: Calculating Final Cost"
   ]
  },
  {
   "cell_type": "code",
   "execution_count": 134,
   "id": "69d62a64-b6fa-4c92-9821-558c1c757eee",
   "metadata": {},
   "outputs": [
    {
     "name": "stdout",
     "output_type": "stream",
     "text": [
      "Final cost after training: 95.93725332949992\n",
      "Score: 0.9756671856713341\n"
     ]
    }
   ],
   "source": [
    "cost = mean_squared_error(y_test, prediction)\n",
    "print(f\"Final cost after training: {cost}\")\n",
    "# score\n",
    "print(f\"Score: {model.score(x_test, y_test)}\")"
   ]
  },
  {
   "cell_type": "code",
   "execution_count": 136,
   "id": "9fc7896a-4645-4a36-8bc0-99b135af4af3",
   "metadata": {},
   "outputs": [],
   "source": [
    "# Step 7: Plot the Data and the Model"
   ]
  },
  {
   "cell_type": "code",
   "execution_count": 138,
   "id": "90531862-6bc2-4e33-b916-d07f37ebddae",
   "metadata": {},
   "outputs": [
    {
     "data": {
      "image/png": "[encoded data removed]",
      "text/plain": [
       "<Figure size 640x480 with 1 Axes>"
      ]
     },
     "metadata": {},
     "output_type": "display_data"
    }
   ],
   "source": [
    "plt.scatter(x, y, color='blue')\n",
    "plt.plot(x, model.predict(x), color='red')\n",
    "plt.title('Population of cities vs Profit')\n",
    "plt.xlabel('Population of cities (in 10,000s)')\n",
    "plt.ylabel('Profit (in 10,000s)')\n",
    "plt.show()"
   ]
  },
  {
   "cell_type": "code",
   "execution_count": null,
   "id": "3dd32392-9925-4d53-a0ca-a7abc2358621",
   "metadata": {},
   "outputs": [],
   "source": []
  }
 ],
 "metadata": {
  "kernelspec": {
   "display_name": "Python [conda env:base] *",
   "language": "python",
   "name": "conda-base-py"
  },
  "language_info": {
   "codemirror_mode": {
    "name": "ipython",
    "version": 3
   },
   "file_extension": ".py",
   "mimetype": "text/x-python",
   "name": "python",
   "nbconvert_exporter": "python",
   "pygments_lexer": "ipython3",
   "version": "3.12.4"
  }
 },
 "nbformat": 4,
 "nbformat_minor": 5
}
